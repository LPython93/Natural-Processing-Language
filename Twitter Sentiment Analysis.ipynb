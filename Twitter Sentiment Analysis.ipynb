{
 "cells": [
  {
   "cell_type": "code",
   "execution_count": 1,
   "metadata": {},
   "outputs": [],
   "source": [
    "from textblob import TextBlob\n",
    "import sys, tweepy\n",
    "import matplotlib.pyplot as plt\n",
    "import twitter"
   ]
  },
  {
   "cell_type": "markdown",
   "metadata": {},
   "source": [
    "# Twitter Sentiment Analysis"
   ]
  },
  {
   "cell_type": "markdown",
   "metadata": {},
   "source": [
    "En primer lugar, nos meteremos en https://www.sitepoint.com/how-to-create-a-twitter-app-and-api-interface-via-python/ donde nos explica como hacer una cuenta para la API de twitter."
   ]
  },
  {
   "cell_type": "code",
   "execution_count": 2,
   "metadata": {},
   "outputs": [],
   "source": [
    "# definimos esta función para una muestra más clara del porcentaje\n",
    "# de tweets positivos y negativos\n",
    "def percentage(part, whole):\n",
    "    return 100 * float(part)/float(whole)"
   ]
  },
  {
   "cell_type": "code",
   "execution_count": 7,
   "metadata": {},
   "outputs": [
    {
     "name": "stdout",
     "output_type": "stream",
     "text": [
      "Enter keyword/hastag to search about:Delete Uber\n",
      "Enter how many tweets to analyze:100\n"
     ]
    }
   ],
   "source": [
    "# TWITTER\n",
    "consumerKey = \"IwWBdUYBvniB95WAUhOlCxCnD\"\n",
    "consumerSecret = \"q7kSFKa8pq77Cw2wfipzA8eFpyMQ1oW43etRlgFei1gD2V6Smr\"\n",
    "accesToken = \"973878492931743744-gLLS1EsB5H64R4bCHn8hRYb7v8AH8F4\"\n",
    "accesTokenSecret = \"E0vv1HY5rG4kYip1M3TTtq4w4kwEWTBGsECJHnRLDYwTv\"\n",
    "auth = tweepy.OAuthHandler(consumer_key = consumerKey, consumer_secret = consumerSecret)\n",
    "auth.set_access_token(accesToken, accesTokenSecret)\n",
    "api = tweepy.API(auth)\n",
    "\n",
    "# indicadores de búsqueda\n",
    "searchTerm = input(\"Enter keyword/hastag to search about:\")\n",
    "noOfSearchTerm = int(input(\"Enter how many tweets to analyze:\"))\n",
    "\n",
    "# tweets\n",
    "tweets = tweepy.Cursor(api.search, q = searchTerm, lang=\"en\").items(noOfSearchTerm)\n"
   ]
  },
  {
   "cell_type": "code",
   "execution_count": 8,
   "metadata": {},
   "outputs": [
    {
     "name": "stdout",
     "output_type": "stream",
     "text": [
      "@DesiPoliticks Highest Level of illiteracy of cong https://t.co/k6s93bdURP this case you should delete whatsapp,twi… https://t.co/LvpJJ2BA9L\n",
      "@Uber_Support I have 2 credit cards on my account and I can’t delete one...Help!\n",
      "RT @NYETANYC: #Uber admitted paying hackers $100,000 to delete masses of data they stole from the company and keep quiet about it. And then…\n",
      "RT @TWiT: - Apple increases self-driving car tests while Uber pulls back after the accident.  \n",
      "- Should you delete your Facebook account?\n",
      "M…\n",
      "@Uber_Support I am not able to delete a payment method. There are two credit cards stored and I want to remove one. Please advise.\n",
      "#Uber admitted paying hackers $100,000 to delete masses of data they stole from the company and keep quiet about it… https://t.co/n3X81J4Ar3\n",
      "You know you’ve officially passed as a washed up, boring graduate student when you delete the Uber app from your phone.\n",
      "@Uber_Support How do I update my credit card in the app? It has expired and I can’t delete the card and the card bi… https://t.co/kotSSgiwyZ\n",
      "@uber_kenya i said you call so that i explain my problem. if you're not gonna call just say it im more than ready to delete your stupid app\n",
      "@AnthonyMaceroni It's like when they said delete uber . Yeah ok . Not many choices\n",
      "Which is why, like Uber, it’s a use FB or delete FB choice for users. That’s not how commercial/customer relationships work normally.\n",
      "RT @jemmaconstant: Everyone delete your @Uber accounts! It’s a horrible company and a driver scammed me for a “mess” that I didn’t leave fo…\n",
      "Smh. I really need to delete my Uber eats app..\n",
      "RT @pv_reynolds: The contrast has been so cranked up on that Uber video. This is a company with no moral compass. Delete App. https://t.co/…\n",
      "@MissMiaKang @Uber_Support Delete your payment method from your account in the meantime Mia\n",
      "RT @TaliaFlintoff: Loyalty.Something a lot of brands overlook.@UberUK @Uber is a prime example of the lack of respect shown to their’valued…\n",
      "Loyalty.Something a lot of brands overlook.@UberUK @Uber is a prime example of the lack of respect shown to their’v… https://t.co/AmjhWAfz74\n",
      "@eshanimathur5 @Uber_India @Uber_Support I have still not received the refund for March 9, 2018 trip. If it is like… https://t.co/2Z9R9Up7MI\n",
      "The contrast has been so cranked up on that Uber video. This is a company with no moral compass. Delete App. https://t.co/lLpzaq6t9h\n",
      "@film_girl @_RocketFM @bypatrickgeorge That's nice of uber so her family can see that delete the app\n",
      "Need to delete Uber eats 🤦🏾‍♂️\n",
      "RT @jemmaconstant: Everyone delete your @Uber accounts! It’s a horrible company and a driver scammed me for a “mess” that I didn’t leave fo…\n",
      "Hello my loves. I ask that you join me &amp; sign up for #VIA + @Lyft in both NYC + DC. I ask that if you haven't alrea… https://t.co/sTuSfIhV8h\n",
      "@Uber @badassboz I am unable to edit my payment info. Im being told the servers are too busy. Also, why can't I del… https://t.co/r75p1qXaXk\n",
      "i can NOT wait to have my car and i’m able to (with PLEASURE) delete the uber app OFF my phone. these niggas get on… https://t.co/GYVGqDjM0Q\n",
      "RT @Dianamo31999696: @TuckerCarlson The banks are them. They are controlling all of us. We let them get too powerful.time to cut up the car…\n",
      "@TuckerCarlson The banks are them. They are controlling all of us. We let them get too powerful.time to cut up the… https://t.co/GRvB2EKYRA\n",
      "I delete tweets in the off chance that my Twitter beneficiary won't see them and get mad. \n",
      "\n",
      "He's, like, uber religious.\n",
      "@iamashishsingh_ Hey Ashish, we have checked your account and see that you have created multiple accounts. Uber wor… https://t.co/eSWg81HHrv\n",
      "(5/5) WHY ARE YOU MAKING IT SO HARD TO LOVE YOU?!Normally I tell everyone to delete their Uber app! Lyft supports w… https://t.co/XMzcUsK3mV\n",
      "I gotta get a copy of the Uber driver handbook and delete whatever chapter tells them that a passenger with both he… https://t.co/Cf3LzGdxOY\n",
      "had to delete my whole account so the uber driver couldn’t try n blame me or find my card🏃🏻‍♀️ byee\n",
      "RT @stephenhdg: Shami chakrabarti usual double standards how terrible face book is but won’t have a word said about Uber how 2 faced shami…\n",
      "@Manda_figz Thanks for letting us know. Be sure to delete your last tweet with your personal information. We'll follow up with your DM.\n",
      "Only a handful of Facebook users will delete their accounts and cancel their broadband connections, to be sure, but… https://t.co/OCublWa4bo\n",
      "So my brother and I tried doing an uber eats order thing on the app, but we didn't do it correctly and we don't kno… https://t.co/AZP6HaMtph\n",
      "Shami chakrabarti usual double standards how terrible face book is but won’t have a word said about Uber how 2 faced shami delete to app !\n",
      "RT @jason_koebler: Mark Zuckerberg and Facebook are not going to fix this by asking companies that no longer exist to delete data they've a…\n",
      "RT @jemmaconstant: Everyone delete your @Uber accounts! It’s a horrible company and a driver scammed me for a “mess” that I didn’t leave fo…\n",
      "RT @jemmaconstant: Everyone delete your @Uber accounts! It’s a horrible company and a driver scammed me for a “mess” that I didn’t leave fo…\n",
      "Reached my personal peak, and I thought this would be everything I need in life. \n",
      "\n",
      "Now I need to delete Uber, becau… https://t.co/Mkqr01ZGny\n",
      "Somebody delete Uber eats off my phone 😭\n",
      "RT @telmer: Needed this resource today and thought I would share. I'm done with @uber and  their terrible service.  \"How to delete your Ube…\n",
      "@nishadkinhikar4 Hey Nishad, it looks like you have accidentally created multiple accounts and Uber works best with… https://t.co/9jNQHHfYVZ\n",
      "@CharuNirankari Thank you so much for following up with us. We strongly advise against sharing personal information… https://t.co/i25RZRxL6x\n",
      "@Uber_Support I need to edit my payment info to update expiration dates and also delete cards. The three dots all y… https://t.co/NEqmfJ5IWT\n",
      "Uber about to make me delete my account\n",
      "And everyone saying \"it's time to delete Facebook\", like that worked when we were told to \"delete Uber\"!\n",
      "And where would everyone go anyway?\n",
      "Since the beginning of February until now I’ve spent $1,080.51 on @uber taken 112 rides.... it’s time to delete uber\n",
      "RT @jemmaconstant: Everyone delete your @Uber accounts! It’s a horrible company and a driver scammed me for a “mess” that I didn’t leave fo…\n",
      "Every time I’m drunk, without fail, I download uber eats type apps and try to get food delivered (which never deliv… https://t.co/RZ7m5CWpsb\n",
      "RT @jemmaconstant: Everyone delete your @Uber accounts! It’s a horrible company and a driver scammed me for a “mess” that I didn’t leave fo…\n",
      "RT @jemmaconstant: Everyone delete your @Uber accounts! It’s a horrible company and a driver scammed me for a “mess” that I didn’t leave fo…\n",
      "Everyone delete your @Uber accounts! It’s a horrible company and a driver scammed me for a “mess” that I didn’t lea… https://t.co/Z0ibIqfdAl\n",
      "RT @TWiT: - Apple increases self-driving car tests while Uber pulls back after the accident.  \n",
      "- Should you delete your Facebook account?\n",
      "M…\n",
      "RT @TWiT: - Apple increases self-driving car tests while Uber pulls back after the accident.  \n",
      "- Should you delete your Facebook account?\n",
      "M…\n",
      "Needed this resource today and thought I would share. I'm done with @uber and  their terrible service.  \"How to del… https://t.co/JdFniOUP7F\n",
      "- Apple increases self-driving car tests while Uber pulls back after the accident.  \n",
      "- Should you delete your Faceb… https://t.co/KwgJzlJrjm\n",
      "@dan_allegretto Swear to God, when I first got 50% off Uber I made my tinder bio \"I have 50% off Uber and I feel in… https://t.co/mpvLwIkfCT\n",
      "I just had to delete the uber eats app. Shit dangerous\n",
      "High-Demand WordPress Hosting: A2's \"Unlimited\" Package Limits My Site | https://t.co/8N5kE4eYal… https://t.co/Mi4Q3llBB0\n",
      "@Uber_Support Hi... I get uber receipts to two mail ids. Could you delete navin.narang@vidalhealthtpa.com from futu… https://t.co/GtTid87rr9\n",
      "Everytime I say I’m gonna delete Uber eats I download it back .... now I’m here ordering food 🤦🏾‍♀️\n",
      "@timberners_lee @ProfBrianCox What repurcussions have companies faced? Time and time again, the answer is none.  Eq… https://t.co/4hlw5X2x51\n",
      "RT @TWiT: - Apple increases self-driving car tests while Uber pulls back after the accident.  \n",
      "- Should you delete your Facebook account?\n",
      "M…\n",
      "I need to delete this uber app, that’s literally where all of my money goes\n",
      "@PaulineDflt @UberUK @Uber Delete the dodgy dangerous outfit 👇 https://t.co/YVGwlp92Y6\n",
      "Time to delete @Uber_Mumbai @Olacabs apps? End of the Road? Wrap up business? Eh?\n",
      "@Uber_Support How do I delete a payment method? There are no three dots. (Yes, I have more than one payment method.) https://t.co/GlgVBRYyIC\n",
      ".@Uber_Support, u kicked me from ur app with no notice &amp; no reason. I can launch it again, but can't use it for \"ca… https://t.co/9qvRjgIUCg\n",
      "@Uber_KSA  Would be awsome if you had the wallet option like Careem, I will delete my Careem app  as soon as this h… https://t.co/afJfInhJG1\n",
      "@Chandank6371 We noticed that there may be multiple accounts associated with your profile. Uber works best with one… https://t.co/a3tLlqhkqM\n",
      "@eshanimathur5 @Uber_India @Uber_Support Finally people who are fed up with @Uber_India @UberINSupport will delete… https://t.co/LPDL0LWJK5\n",
      "Thanks for flying to the #Atlantaairport, now #DeleteUber and take a #TAXI https://t.co/EVP5HpdcGp Protect your acc… https://t.co/sdAOCZWhhh\n",
      "Dear @Uber please delete yourself before you kill more people. #deleteuber https://t.co/U8uG9DHDEX\n"
     ]
    },
    {
     "name": "stdout",
     "output_type": "stream",
     "text": [
      "And two mins later, I log out and log back in and issue is magically fixed, all apps accessing data are gone except… https://t.co/uiWApsaFWG\n",
      "@gskh1237 @facebook @fbnewsroom I don't think you should delete your account. As an ex @facebook user I really like… https://t.co/G1UTHsnXbp\n",
      "@pixnvids @nytimes Wow, that's just nuts. @facebook demanding a passport in order to simply delete a page.… https://t.co/XXsXCM3D7J\n",
      "@EnriqueJuarez60 I used to uber eats sharis to my house like multiple times a week then I had to delete the app cau… https://t.co/OF5mS8qNIp\n",
      "@enjoimorenow @brahmresnik @Uber @dkhos I don't give two shits what they do \n",
      "\n",
      "and if you can't have a conversation… https://t.co/ocWF1XiOtd\n",
      "@WIRED : Posting a video embedded in your tweet that autoplays someone being killed is the most morally reprehensib… https://t.co/qmqAXNLQNW\n",
      "@Uber_Support \n",
      "Hy\n",
      "I want to delete my Uber acco+923009437340\n",
      "Email: hafiztariqjaved1@gmail.com\n",
      "@hillaryjaneee We're sorry to hear about this, Hillary. For your privacy, kindly delete your email and mobile numbe… https://t.co/KK1zxb4yb1\n",
      "Can't wait for u guys to figure out that every web-based service is harvesting ur info and selling it without telli… https://t.co/obtN5k5Hc4\n",
      "RT @dispensabiliame: @andrewwhiteau @Asher_Wolf @Uber_Australia No, the menu is still there, it’s just hidden beibgvthe sane colour as the…\n",
      "@andrewwhiteau @Asher_Wolf @Uber_Australia No, the menu is still there, it’s just hidden beibgvthe sane colour as t… https://t.co/6w0IcfZAF1\n",
      "Remember, I can delete UBER partner app anytime.\n",
      " \n",
      "#uber \n",
      "#annoy\n",
      "RT @firefire100: @smats88 @HeronDemarco people in a location on their phone uber, checking into foursquare, giving a yelp review on their g…\n",
      "RT @firefire100: @smats88 @HeronDemarco people in a location on their phone uber, checking into foursquare, giving a yelp review on their g…\n",
      "@smats88 @HeronDemarco people in a location on their phone uber, checking into foursquare, giving a yelp review on… https://t.co/OU97ZMzpRn\n",
      "RT @PopTartsUS: Delete your account https://t.co/HIA3HsIKz8\n",
      "@wwhiting48 Thank you so much for following up with us. We strongly advise against sharing personal information suc… https://t.co/ht6IBwc6jf\n",
      "@Uber_Support I've recently purchased a new vehicle but my old Vehicle won't delete I have tried numerous amount of… https://t.co/hgVujUtm2O\n",
      "- Apple increases self-driving car tests while Uber pulls back after the accident.  \n",
      "- Should you delete your Faceb… https://t.co/vDPDkQu9mx\n",
      "delete your Uber app now\n",
      "delete your Uber app now\n",
      "delete your Uber app now\n",
      "delete your Uber app now\n",
      "delete your Ube… https://t.co/lwcwMVIBNj\n",
      "RT @eesaiqbal_eesa: @Uber_Support @KB24ATW I've recently purchased a new vehicle but my old Vehicle won't delete I have tried numerous amou…\n",
      "@Uber_Support @KB24ATW I've recently purchased a new vehicle but my old Vehicle won't delete I have tried numerous amount of times.\n",
      "@ICOnews hi @Uber are refusing to delete my card details from the app, saying I need to have at least one on my acc… https://t.co/oCCmOd3F2m\n",
      "@RossAndJohn take screen cap of phone when assigned an Uber driver then you've got a record. If no hassles delete pic! Cheers Rosie xx\n",
      "@Uber someone is sending me Uber access codes I'm going to delete my account\n",
      "How people are reacting on  Delete Uber by analyzing 100 Tweets\n",
      "Negative\n"
     ]
    },
    {
     "data": {
      "image/png": "[encoded data removed]",
      "text/plain": [
       "<matplotlib.figure.Figure at 0x267f418b0b8>"
      ]
     },
     "metadata": {},
     "output_type": "display_data"
    }
   ],
   "source": [
    "# Sentiment Analysis\n",
    "positive = 0\n",
    "negative = 0\n",
    "neutral = 0\n",
    "polarity = 0 # average sentiment of all the tweets\n",
    "\n",
    "for tweet in tweets:\n",
    "    print(tweet.text)\n",
    "    analysis = TextBlob(tweet.text)\n",
    "    polarity += analysis.sentiment.polarity\n",
    "    \n",
    "    if (analysis.sentiment.polarity == 0):\n",
    "        neutral +=1\n",
    "    elif (analysis.sentiment.polarity > 0.00):\n",
    "        positive +=1\n",
    "    elif (analysis.sentiment.polarity < 0.00):\n",
    "        negative +=1\n",
    "\n",
    "# porcentajes\n",
    "positive = percentage(positive, noOfSearchTerm)\n",
    "negative = percentage(negative, noOfSearchTerm)\n",
    "neutral = percentage(neutral, noOfSearchTerm)\n",
    "\n",
    "positive = format(positive, '.2f')\n",
    "negative = format(negative, '.2f')\n",
    "neutral = format(neutral, '.2f')\n",
    "\n",
    "print(\"How people are reacting on \",searchTerm, \"by analyzing\", str(noOfSearchTerm), \"Tweets\")\n",
    "\n",
    "if (polarity == 0):\n",
    "    print(\"Neutral\")\n",
    "elif (polarity < 0):\n",
    "    print(\"Negative\")\n",
    "elif (polarity > 0):\n",
    "    print(\"Positive\")\n",
    "    \n",
    "    \n",
    "labels = ['Positive ['+str(positive)+'%]','Neutral ['+str(neutral)+'%]','Negative ['+str(negative)+'%]']\n",
    "sizes = [positive, neutral, negative]\n",
    "colors = ['yellowgreen','gold','red']\n",
    "\n",
    "patches, text = plt.pie(sizes, colors = colors, startangle=90)\n",
    "plt.legend(patches, labels, loc=\"best\")\n",
    "plt.title(\"How people are reacting on\" + searchTerm + \"by analyzing\" + str(noOfSearchTerm) + \"Tweets\")\n",
    "plt.axis('equal')\n",
    "plt.tight_layout()\n",
    "plt.show()\n"
   ]
  },
  {
   "cell_type": "code",
   "execution_count": null,
   "metadata": {},
   "outputs": [],
   "source": []
  }
 ],
 "metadata": {
  "kernelspec": {
   "display_name": "Python 3",
   "language": "python",
   "name": "python3"
  },
  "language_info": {
   "codemirror_mode": {
    "name": "ipython",
    "version": 3
   },
   "file_extension": ".py",
   "mimetype": "text/x-python",
   "name": "python",
   "nbconvert_exporter": "python",
   "pygments_lexer": "ipython3",
   "version": "3.6.4"
  }
 },
 "nbformat": 4,
 "nbformat_minor": 2
}
