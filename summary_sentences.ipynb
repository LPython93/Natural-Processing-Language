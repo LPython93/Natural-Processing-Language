{
 "cells": [
  {
   "cell_type": "markdown",
   "metadata": {},
   "source": [
    "# Procesamiento del lenguaje natural y minería de texto (PLN)\n",
    "\n"
   ]
  },
  {
   "cell_type": "markdown",
   "metadata": {},
   "source": [
    "Esta práctica consistirá en que hemos seleccionado dos artículos de un determinado tema y mediante un algoritmo de scoring-sentences seleccionaremos las frases más importantes de cada artículo.\n"
   ]
  },
  {
   "cell_type": "code",
   "execution_count": 1,
   "metadata": {},
   "outputs": [],
   "source": [
    "# packages\n",
    "import sys\n",
    "import os\n",
    "import nltk\n",
    "from collections import Counter"
   ]
  },
  {
   "cell_type": "markdown",
   "metadata": {},
   "source": [
    "### Documentos de texto"
   ]
  },
  {
   "cell_type": "markdown",
   "metadata": {},
   "source": [
    "Hemos elegido el tópico de la biografía de Einstein, por ello, hemos buscado dos artículos de diferentes fuentes que nos hacen un resumen sobre su vida.\n",
    "\n",
    "Las dos fuentes son:\n",
    "    - https://www.nobelprize.org/nobel_prizes/physics/laureates/1921/einstein-bio.html - Artículo 1\n",
    "    - https://www.biography.com/people/albert-einstein-9285408 - Artículo 2\n",
    "    "
   ]
  },
  {
   "cell_type": "code",
   "execution_count": 6,
   "metadata": {},
   "outputs": [
    {
     "name": "stdout",
     "output_type": "stream",
     "text": [
      "Albert Einstein was born at Ulm, in Württemberg, Germany, on March 14, 1879. Six weeks later the family moved to Munich, where he later on began his schooling at the Luitpold Gymnasium. Later, they moved to Italy and Albert continued his education at Aarau, Switzerland and in 1896 he entered the Swiss Federal Polytechnic School in Zurich to be trained as a teacher in physics and mathematics. In 1901, the year he gained his diploma, he acquired Swiss citizenship and, as he was unable to find a teaching post, he accepted a position as technical assistant in the Swiss Patent Office. In 1905 he obtained his doctor's degree.\n",
      "\n",
      "During his stay at the Patent Office, and in his spare time, he produced much of his remarkable work and in 1908 he was appointed Privatdozent in Berne. In 1909 he became Professor Extraordinary at Zurich, in 1911 Professor of Theoretical Physics at Prague, returning to Zurich in the following year to fill a similar post. In 1914 he was appointed Director of the Kaiser Wilhelm Physical Institute and Professor in the University of Berlin. He became a German citizen in 1914 and remained in Berlin until 1933 when he renounced his citizenship for political reasons and emigrated to America to take the position of Professor of Theoretical Physics at Princeton*. He became a United States citizen in 1940 and retired from his post in 1945.\n",
      "\n",
      "After World War II, Einstein was a leading figure in the World Government Movement, he was offered the Presidency of the State of Israel, which he declined, and he collaborated with Dr. Chaim Weizmann in establishing the Hebrew University of Jerusalem.\n",
      "\n",
      "Einstein always appeared to have a clear view of the problems of physics and the determination to solve them. He had a strategy of his own and was able to visualize the main stages on the way to his goal. He regarded his major achievements as mere stepping-stones for the next advance.\n",
      "\n",
      "At the start of his scientific work, Einstein realized the inadequacies of Newtonian mechanics and his special theory of relativity stemmed from an attempt to reconcile the laws of mechanics with the laws of the electromagnetic field. He dealt with classical problems of statistical mechanics and problems in which they were merged with quantum theory: this led to an explanation of the Brownian movement of molecules. He investigated the thermal properties of light with a low radiation density and his observations laid the foundation of the photon theory of light.\n",
      "\n",
      "In his early days in Berlin, Einstein postulated that the correct interpretation of the special theory of relativity must also furnish a theory of gravitation and in 1916 he published his paper on the general theory of relativity. During this time he also contributed to the problems of the theory of radiation and statistical mechanics.\n",
      "\n",
      "In the 1920s, Einstein embarked on the construction of unified field theories, although he continued to work on the probabilistic interpretation of quantum theory, and he persevered with this work in America. He contributed to statistical mechanics by his development of the quantum theory of a monatomic gas and he has also accomplished valuable work in connection with atomic transition probabilities and relativistic cosmology.\n",
      "\n",
      "After his retirement he continued to work towards the unification of the basic concepts of physics, taking the opposite approach, geometrisation, to the majority of physicists.\n",
      "\n",
      "Einstein's researches are, of course, well chronicled and his more important works include Special Theory of Relativity (1905), Relativity (English translations, 1920 and 1950), General Theory of Relativity (1916), Investigations on Theory of Brownian Movement (1926), and The Evolution of Physics (1938). Among his non-scientific works, About Zionism (1930), Why War? (1933), My Philosophy (1934), and Out of My Later Years (1950) are perhaps the most important.\n",
      "\n",
      "Albert Einstein received honorary doctorate degrees in science, medicine and philosophy from many European and American universities. During the 1920's he lectured in Europe, America and the Far East, and he was awarded Fellowships or Memberships of all the leading scientific academies throughout the world. He gained numerous awards in recognition of his work, including the Copley Medal of the Royal Society of London in 1925, and the Franklin Medal of the Franklin Institute in 1935.\n",
      "\n",
      "Einstein's gifts inevitably resulted in his dwelling much in intellectual solitude and, for relaxation, music played an important part in his life. He married Mileva Maric in 1903 and they had a daughter and two sons; their marriage was dissolved in 1919 and in the same year he married his cousin, Elsa Löwenthal, who died in 1936. He died on April 18, 1955 at Princeton, New Jersey.\n"
     ]
    }
   ],
   "source": [
    "f = open(\"Albert_Einstein_1.txt\",encoding=\"utf8\")\n",
    "document1 = f.read()\n",
    "print(document1)"
   ]
  },
  {
   "cell_type": "code",
   "execution_count": 5,
   "metadata": {},
   "outputs": [
    {
     "name": "stdout",
     "output_type": "stream",
     "text": [
      "Albert Einstein was a German-born physicist who developed the general theory of relativity. He is considered one of the most influential physicists of the 20th century.\n",
      "Who Was Albert Einstein?\n",
      "Albert Einstein (March 14, 1879 to April 18, 1955) was a German mathematician and physicist who developed the special and general theories of relativity. In 1921, he won the Nobel Prize for physics for his explanation of the photoelectric effect. In the following decade, he immigrated to the U.S. after being targeted by the Nazis. His work also had a major impact on the development of atomic energy. In his later years, Einstein focused on unified field theory. With his passion for inquiry, Einstein is generally considered the most influential physicist of the 20th century.\n",
      "Albert Einstein’s Inventions and Discoveries\n",
      "As a physicist, Einstein had many discoveries, but he is perhaps best known for his theory of relativity and the equation E=MC2, which foreshadowed the development of atomic power and the atomic bomb.\n",
      "Theory of Relativity\n",
      "Einstein first proposed a special theory of relativity in 1905 in his paper, “On the Electrodynamics of Moving Bodies,” taking physics in an electrifying new direction. By November 1915, Einstein completed the general theory of relativity. Einstein considered this theory the culmination of his life research. He was convinced of the merits of general relativity because it allowed for a more accurate prediction of planetary orbits around the sun, which fell short in Isaac Newton’s theory, and for a more expansive, nuanced explanation of how gravitational forces worked. Einstein's assertions were affirmed via observations and measurements by British astronomers Sir Frank Dyson and Sir Arthur Eddington during the 1919 solar eclipse, and thus a global science icon was born.\n",
      "Einstein’s E=MC2\n",
      "Einstein’s 1905 paper on the matter/energy relationship proposed the equation E=MC2: energy of a body (E) is equal to the mass (M) of that body times the speed of light squared (C2). This equation suggested that tiny particles of matter could be converted into huge amounts of energy, a discovery that heralded atomic power. Famed quantum theorist Max Planck backed up the assertions of Einstein, who thus became a star of the lecture circuit and academia, taking on various positions before becoming director of the Kaiser Wilhelm Institute for Physics from 1913 to 1933.\n",
      "Family\n",
      "Albert Einstein grew up in a secular Jewish family. His father, Hermann Einstein, was a salesman and engineer who, with his brother, founded Elektrotechnische Fabrik J. Einstein & Cie, a Munich-based company that manufactured electrical equipment. Albert’s mother, the former Pauline Koch, ran the family household. Einstein had one sister, Maja, born two years after him.\n",
      "Einstein’s Wives and Children\n",
      "Albert Einstein married Milena Maric on Jan. 6, 1903. While attending school in Zurich, Einstein met Maric, a Serbian physics student. Einstein continued to grow closer to Maric, but his parents were strongly against the relationship due to her ethnic background. Nonetheless, Einstein continued to see her, with the two developing a correspondence via letters in which he expressed many of his scientific ideas. Einstein’s father passed away in 1902, and the couple married thereafter.\n",
      "That same year the couple had a daughter, Lieserl, who might have been later raised by Maric's relatives or given up for adoption. Her ultimate fate and whereabouts remain a mystery. The couple went on to have two sons, Hans and Eduard. The marriage would not be a happy one, with the two divorcing in 1919 and Maric having an emotional breakdown in connection to the split. Einstein, as part of a settlement, agreed to give Maric any funds he might receive from possibly winning the Nobel Prize in the future.\n",
      "During his marriage to Maric, Einstein had also begun an affair some time earlier with a cousin, Elsa Löwenthal. The couple wed in 1919, the same year of Einstein’s divorce. He would continue to see other women throughout his second marriage, which ended with Löwenthal's death in 1936.\n",
      "When and Where Was Albert Einstein Born?\n",
      "Albert Einstein was born on March 14, 1879 in Ulm, Württemberg, Germany.\n",
      "When Did Albert Einstein Die?\n",
      "Albert Einstein died at the University Medical Center at Princeton early in the morning on April 18, 1955 at the age of 76. The previous day, while working on a speech to honor Israel's seventh anniversary, Einstein suffered an abdominal aortic aneurysm. He was taken to the hospital for treatment but refused surgery, believing that he had lived his life and was content to accept his fate. \"I want to go when I want,\" he stated at the time. \"It is tasteless to prolong life artificially. I have done my share, it is time to go. I will do it elegantly.\"\n",
      "Einstein’s Brain\n",
      "During Albert Einstein’s autopsy, Thomas Stoltz Harvey removed his brain, reportedly without the permission of his family, for preservation and future study by doctors of neuroscience. However during his life Einstein participated in brain studies, and at least one biography says he hoped researchers would study his brain after he died. Einstein's brain is now located at the Princeton University Medical Center, and his remains were cremated and his ashes scattered in an undisclosed location, following his wishes.\n",
      "In 1999, Canadian scientists who were studying Einstein’s brain found that his inferior parietal lobe, the area that processes spatial relationships, 3D-visualization and mathematical thought, was 15 percent wider than in people with normal intelligence. According to The New York Times, the researchers believe it may help explain why Einstein was so intelligent.\n",
      "Early Life and Education\n",
      "Einstein attended elementary school at the Luitpold Gymnasium in Munich. However, he felt alienated there and struggled with the institution's rigid pedagogical style. He also had what were considered speech challenges, though he developed a passion for classical music and playing the violin that would stay with him into his later years. Most significantly, Einstein's youth was marked by deep inquisitiveness and inquiry.\n",
      "Towards the end of the 1880s, Max Talmud, a Polish medical student who sometimes dined with the Einstein family, became an informal tutor to young Albert. Talmud had introduced his pupil to a children’s science text that inspired Einstein to dream about the nature of light. Thus, during his teens, Einstein penned what would be seen as his first major paper, \"The Investigation of the State of Aether in Magnetic Fields.\"\n",
      "Hermann Einstein relocated the family to Milan, Italy, in the mid-1890s after his business lost out on a major contract. Albert was left at a relative's boarding house in Munich to complete his schooling at the Luitpold Gymnasium. Faced with military duty when he turned of age, Albert allegedly withdrew from classes, using a doctor’s note to excuse himself and claim nervous exhaustion. With their son rejoining them in Italy, his parents understood Einstein's perspective but were concerned about his future prospects as a school dropout and draft dodger.\n",
      "Einstein was eventually able to gain admission into the Swiss Federal Polytechnic School in Zurich, specifically due to his superb mathematics and physics scores on the entrance exam. He was still required to complete his pre-university education first, and thus attended a high school in Aarau, Switzerland helmed by Jost Winteler. Einstein lived with the schoolmaster's family and fell in love with Winteler's daughter, Marie. Einstein later renounced his German citizenship and became a Swiss citizen at the dawn of the new century.\n",
      "After graduating, Einstein faced major challenges in terms of finding academic positions, having alienated some professors over not attending class more regularly in lieu of studying independently. Einstein eventually found steady work in 1902 after receiving a referral for a clerk position in a Swiss patent office. While working at the patent office, Einstein had the time to further explore ideas that had taken hold during his studies at Polytechnic and thus cemented his theorems on what would be known as the principle of relativity.\n",
      "In 1905—seen by many as a \"miracle year\" for the theorist—Einstein had four papers published in the Annalen der Physik, one of the best known physics journals of the era. Two focused on photoelectric effect and Brownian motion. The two others, which outlined E=MC2 and the special theory of relativity, were defining for Einstein’s career and the course of the study of physics.\n",
      "Nobel Prize for Physics\n",
      "In 1921, Einstein won the Nobel Prize for Physics for his explanation of the photoelectric effect, since his ideas on relativity were still considered questionable. He wasn't actually given the award until the following year due to a bureaucratic ruling, and during his acceptance speech he still opted to speak about relativity.\n",
      "In the development of his general theory, Einstein had held onto the belief that the universe was a fixed, static entity, aka a \"cosmological constant,\" though his later theories directly contradicted this idea and asserted that the universe could be in a state of flux. Astronomer Edwin Hubble deduced that we indeed inhabit an expanding universe, with the two scientists meeting at the Mount Wilson Observatory near Los Angeles in 1930.\n",
      "Becoming a U.S. Citizen\n",
      "In 1933, Einstein took on a position at the Institute for Advanced Study at Princeton, New Jersey. At the time the Nazis, led by Adolf Hitler, were gaining prominence with violent propaganda and vitriol in an impoverished post-WWI Germany. The party influenced other scientists to label Einstein's work \"Jewish physics.\" Jewish citizens were barred from university work and other official jobs, and Einstein himself was targeted to be killed. Meanwhile, other European scientists also left regions threatened by Germany and immigrated to the U.S., with concern over Nazi strategies to create an atomic weapon. After moving, Einstein never went back to his native land. It was at Princeton that Einstein would spend the rest of his life working on a unified field theory—an all-embracing paradigm meant to unify the varied laws of physics.\n",
      "Not long after he began his career at Princeton, Einstein expressed an appreciation for American \"meritocracy\" and the opportunities people had for free thought, a stark contrast to his own experiences coming of age. In 1935, Einstein was granted permanent residency in his adopted country and became an American citizen a few years later. During WWII, he worked on Navy-based weapons systems and made big monetary donations to the military by auctioning off manuscripts worth millions.\n",
      "Einstein and the Atomic Bomb\n",
      "In 1939, Einstein and fellow physicist Leo Szilard wrote to President Franklin D. Roosevelt to alert him of the possibility of a Nazi bomb and to galvanize the United States to create its own nuclear weapons. The U.S. would eventually initiate the Manhattan Project, though Einstein would not take direct part in its implementation due to his pacifist and socialist affiliations. Einstein was also the recipient of much scrutiny and major distrust from FBI director J. Edgar Hoover.\n",
      "After learning of the 1945 bombing of Hiroshima, Japan, Einstein became a major player in efforts to curtail usage of the a-bomb. The following year he and Szilard founded the Emergency Committee of Atomic Scientists, and in 1947, via an essay for The Atlantic Monthly, Einstein espoused working with the United Nations to maintain nuclear weapons as a deterrent to conflict.\n",
      "Member of the NAACP\n",
      "In the late 1940s, Einstein became a member of the National Association for the Advancement of Colored People (NAACP), seeing the parallels between the treatment of Jews in Germany and African Americans in the United States. He corresponded with scholar/activist W.E.B. Du Bois as well as performing artist Paul Robeson and campaigned for civil rights, calling racism a \"disease\" in a 1946 Lincoln University speech.\n",
      "Time Travel and Quantum Theory\n",
      "After World War II, Einstein continued to work on his unified field theory and key aspects of the theory of general relativity, such as wormholes, the possibility of time travel, the existence of black holes and the creation of the universe. However, he became increasingly isolated from the rest of the physics community, whose eyes were set on quantum theory. In the last decade of his life, Einstein, who had always seen himself as a loner, withdrew even further from any sort of spotlight, preferring to stay close to Princeton and immerse himself in processing ideas with colleagues.\n",
      "Legacy\n",
      "Since Einstein’s death, a veritable mountain of books have been written on the iconic thinker's life, including Einstein: His Life and Universe by Walter Isaacson and Einstein: A Biography by Jürgen Neffe, both from 2007. Einstein's own words are presented in the collection The World As I See It.\n",
      "\n"
     ]
    }
   ],
   "source": [
    "f = open(\"Albert_Einstein.txt\",encoding=\"utf8\")\n",
    "document2 = f.read()\n",
    "print(document2)"
   ]
  },
  {
   "cell_type": "markdown",
   "metadata": {},
   "source": [
    "Como nuestro objetivo es analizar palabra a palabra cada artículo, necesitamos limpiarlo, es decir, hacer un preprocesamiento de texto y para ello eliminamos los símbolos como '\\n':"
   ]
  },
  {
   "cell_type": "code",
   "execution_count": 4,
   "metadata": {},
   "outputs": [
    {
     "name": "stdout",
     "output_type": "stream",
     "text": [
      "Albert Einstein was born at Ulm, in Württemberg, Germany, on March 14, 1879. Six weeks later the family moved to Munich, where he later on began his schooling at the Luitpold Gymnasium. Later, they moved to Italy and Albert continued his education at Aarau, Switzerland and in 1896 he entered the Swiss Federal Polytechnic School in Zurich to be trained as a teacher in physics and mathematics. In 1901, the year he gained his diploma, he acquired Swiss citizenship and, as he was unable to find a teaching post, he accepted a position as technical assistant in the Swiss Patent Office. In 1905 he obtained his doctor's degree.During his stay at the Patent Office, and in his spare time, he produced much of his remarkable work and in 1908 he was appointed Privatdozent in Berne. In 1909 he became Professor Extraordinary at Zurich, in 1911 Professor of Theoretical Physics at Prague, returning to Zurich in the following year to fill a similar post. In 1914 he was appointed Director of the Kaiser Wilhelm Physical Institute and Professor in the University of Berlin. He became a German citizen in 1914 and remained in Berlin until 1933 when he renounced his citizenship for political reasons and emigrated to America to take the position of Professor of Theoretical Physics at Princeton*. He became a United States citizen in 1940 and retired from his post in 1945.After World War II, Einstein was a leading figure in the World Government Movement, he was offered the Presidency of the State of Israel, which he declined, and he collaborated with Dr. Chaim Weizmann in establishing the Hebrew University of Jerusalem.Einstein always appeared to have a clear view of the problems of physics and the determination to solve them. He had a strategy of his own and was able to visualize the main stages on the way to his goal. He regarded his major achievements as mere stepping-stones for the next advance.At the start of his scientific work, Einstein realized the inadequacies of Newtonian mechanics and his special theory of relativity stemmed from an attempt to reconcile the laws of mechanics with the laws of the electromagnetic field. He dealt with classical problems of statistical mechanics and problems in which they were merged with quantum theory: this led to an explanation of the Brownian movement of molecules. He investigated the thermal properties of light with a low radiation density and his observations laid the foundation of the photon theory of light.In his early days in Berlin, Einstein postulated that the correct interpretation of the special theory of relativity must also furnish a theory of gravitation and in 1916 he published his paper on the general theory of relativity. During this time he also contributed to the problems of the theory of radiation and statistical mechanics.In the 1920s, Einstein embarked on the construction of unified field theories, although he continued to work on the probabilistic interpretation of quantum theory, and he persevered with this work in America. He contributed to statistical mechanics by his development of the quantum theory of a monatomic gas and he has also accomplished valuable work in connection with atomic transition probabilities and relativistic cosmology.After his retirement he continued to work towards the unification of the basic concepts of physics, taking the opposite approach, geometrisation, to the majority of physicists.Einstein's researches are, of course, well chronicled and his more important works include Special Theory of Relativity (1905), Relativity (English translations, 1920 and 1950), General Theory of Relativity (1916), Investigations on Theory of Brownian Movement (1926), and The Evolution of Physics (1938). Among his non-scientific works, About Zionism (1930), Why War? (1933), My Philosophy (1934), and Out of My Later Years (1950) are perhaps the most important.Albert Einstein received honorary doctorate degrees in science, medicine and philosophy from many European and American universities. During the 1920's he lectured in Europe, America and the Far East, and he was awarded Fellowships or Memberships of all the leading scientific academies throughout the world. He gained numerous awards in recognition of his work, including the Copley Medal of the Royal Society of London in 1925, and the Franklin Medal of the Franklin Institute in 1935.Einstein's gifts inevitably resulted in his dwelling much in intellectual solitude and, for relaxation, music played an important part in his life. He married Mileva Maric in 1903 and they had a daughter and two sons; their marriage was dissolved in 1919 and in the same year he married his cousin, Elsa Löwenthal, who died in 1936. He died on April 18, 1955 at Princeton, New Jersey.\n",
      "Albert Einstein was a German-born physicist who developed the general theory of relativity. He is considered one of the most influential physicists of the 20th century.Who Was Albert Einstein?Albert Einstein (March 14, 1879 to April 18, 1955) was a German mathematician and physicist who developed the special and general theories of relativity. In 1921, he won the Nobel Prize for physics for his explanation of the photoelectric effect. In the following decade, he immigrated to the U.S. after being targeted by the Nazis. His work also had a major impact on the development of atomic energy. In his later years, Einstein focused on unified field theory. With his passion for inquiry, Einstein is generally considered the most influential physicist of the 20th century.Albert Einstein’s Inventions and DiscoveriesAs a physicist, Einstein had many discoveries, but he is perhaps best known for his theory of relativity and the equation E=MC2, which foreshadowed the development of atomic power and the atomic bomb.Theory of RelativityEinstein first proposed a special theory of relativity in 1905 in his paper, “On the Electrodynamics of Moving Bodies,” taking physics in an electrifying new direction. By November 1915, Einstein completed the general theory of relativity. Einstein considered this theory the culmination of his life research. He was convinced of the merits of general relativity because it allowed for a more accurate prediction of planetary orbits around the sun, which fell short in Isaac Newton’s theory, and for a more expansive, nuanced explanation of how gravitational forces worked. Einstein's assertions were affirmed via observations and measurements by British astronomers Sir Frank Dyson and Sir Arthur Eddington during the 1919 solar eclipse, and thus a global science icon was born.Einstein’s E=MC2Einstein’s 1905 paper on the matter/energy relationship proposed the equation E=MC2: energy of a body (E) is equal to the mass (M) of that body times the speed of light squared (C2). This equation suggested that tiny particles of matter could be converted into huge amounts of energy, a discovery that heralded atomic power. Famed quantum theorist Max Planck backed up the assertions of Einstein, who thus became a star of the lecture circuit and academia, taking on various positions before becoming director of the Kaiser Wilhelm Institute for Physics from 1913 to 1933.FamilyAlbert Einstein grew up in a secular Jewish family. His father, Hermann Einstein, was a salesman and engineer who, with his brother, founded Elektrotechnische Fabrik J. Einstein & Cie, a Munich-based company that manufactured electrical equipment. Albert’s mother, the former Pauline Koch, ran the family household. Einstein had one sister, Maja, born two years after him.Einstein’s Wives and ChildrenAlbert Einstein married Milena Maric on Jan. 6, 1903. While attending school in Zurich, Einstein met Maric, a Serbian physics student. Einstein continued to grow closer to Maric, but his parents were strongly against the relationship due to her ethnic background. Nonetheless, Einstein continued to see her, with the two developing a correspondence via letters in which he expressed many of his scientific ideas. Einstein’s father passed away in 1902, and the couple married thereafter.That same year the couple had a daughter, Lieserl, who might have been later raised by Maric's relatives or given up for adoption. Her ultimate fate and whereabouts remain a mystery. The couple went on to have two sons, Hans and Eduard. The marriage would not be a happy one, with the two divorcing in 1919 and Maric having an emotional breakdown in connection to the split. Einstein, as part of a settlement, agreed to give Maric any funds he might receive from possibly winning the Nobel Prize in the future.During his marriage to Maric, Einstein had also begun an affair some time earlier with a cousin, Elsa Löwenthal. The couple wed in 1919, the same year of Einstein’s divorce. He would continue to see other women throughout his second marriage, which ended with Löwenthal's death in 1936.When and Where Was Albert Einstein Born?Albert Einstein was born on March 14, 1879 in Ulm, Württemberg, Germany.When Did Albert Einstein Die?Albert Einstein died at the University Medical Center at Princeton early in the morning on April 18, 1955 at the age of 76. The previous day, while working on a speech to honor Israel's seventh anniversary, Einstein suffered an abdominal aortic aneurysm. He was taken to the hospital for treatment but refused surgery, believing that he had lived his life and was content to accept his fate. \"I want to go when I want,\" he stated at the time. \"It is tasteless to prolong life artificially. I have done my share, it is time to go. I will do it elegantly.\"Einstein’s BrainDuring Albert Einstein’s autopsy, Thomas Stoltz Harvey removed his brain, reportedly without the permission of his family, for preservation and future study by doctors of neuroscience. However during his life Einstein participated in brain studies, and at least one biography says he hoped researchers would study his brain after he died. Einstein's brain is now located at the Princeton University Medical Center, and his remains were cremated and his ashes scattered in an undisclosed location, following his wishes.In 1999, Canadian scientists who were studying Einstein’s brain found that his inferior parietal lobe, the area that processes spatial relationships, 3D-visualization and mathematical thought, was 15 percent wider than in people with normal intelligence. According to The New York Times, the researchers believe it may help explain why Einstein was so intelligent.Early Life and EducationEinstein attended elementary school at the Luitpold Gymnasium in Munich. However, he felt alienated there and struggled with the institution's rigid pedagogical style. He also had what were considered speech challenges, though he developed a passion for classical music and playing the violin that would stay with him into his later years. Most significantly, Einstein's youth was marked by deep inquisitiveness and inquiry.Towards the end of the 1880s, Max Talmud, a Polish medical student who sometimes dined with the Einstein family, became an informal tutor to young Albert. Talmud had introduced his pupil to a children’s science text that inspired Einstein to dream about the nature of light. Thus, during his teens, Einstein penned what would be seen as his first major paper, \"The Investigation of the State of Aether in Magnetic Fields.\"Hermann Einstein relocated the family to Milan, Italy, in the mid-1890s after his business lost out on a major contract. Albert was left at a relative's boarding house in Munich to complete his schooling at the Luitpold Gymnasium. Faced with military duty when he turned of age, Albert allegedly withdrew from classes, using a doctor’s note to excuse himself and claim nervous exhaustion. With their son rejoining them in Italy, his parents understood Einstein's perspective but were concerned about his future prospects as a school dropout and draft dodger.Einstein was eventually able to gain admission into the Swiss Federal Polytechnic School in Zurich, specifically due to his superb mathematics and physics scores on the entrance exam. He was still required to complete his pre-university education first, and thus attended a high school in Aarau, Switzerland helmed by Jost Winteler. Einstein lived with the schoolmaster's family and fell in love with Winteler's daughter, Marie. Einstein later renounced his German citizenship and became a Swiss citizen at the dawn of the new century.After graduating, Einstein faced major challenges in terms of finding academic positions, having alienated some professors over not attending class more regularly in lieu of studying independently. Einstein eventually found steady work in 1902 after receiving a referral for a clerk position in a Swiss patent office. While working at the patent office, Einstein had the time to further explore ideas that had taken hold during his studies at Polytechnic and thus cemented his theorems on what would be known as the principle of relativity.In 1905—seen by many as a \"miracle year\" for the theorist—Einstein had four papers published in the Annalen der Physik, one of the best known physics journals of the era. Two focused on photoelectric effect and Brownian motion. The two others, which outlined E=MC2 and the special theory of relativity, were defining for Einstein’s career and the course of the study of physics.Nobel Prize for PhysicsIn 1921, Einstein won the Nobel Prize for Physics for his explanation of the photoelectric effect, since his ideas on relativity were still considered questionable. He wasn't actually given the award until the following year due to a bureaucratic ruling, and during his acceptance speech he still opted to speak about relativity.In the development of his general theory, Einstein had held onto the belief that the universe was a fixed, static entity, aka a \"cosmological constant,\" though his later theories directly contradicted this idea and asserted that the universe could be in a state of flux. Astronomer Edwin Hubble deduced that we indeed inhabit an expanding universe, with the two scientists meeting at the Mount Wilson Observatory near Los Angeles in 1930.Becoming a U.S. CitizenIn 1933, Einstein took on a position at the Institute for Advanced Study at Princeton, New Jersey. At the time the Nazis, led by Adolf Hitler, were gaining prominence with violent propaganda and vitriol in an impoverished post-WWI Germany. The party influenced other scientists to label Einstein's work \"Jewish physics.\" Jewish citizens were barred from university work and other official jobs, and Einstein himself was targeted to be killed. Meanwhile, other European scientists also left regions threatened by Germany and immigrated to the U.S., with concern over Nazi strategies to create an atomic weapon. After moving, Einstein never went back to his native land. It was at Princeton that Einstein would spend the rest of his life working on a unified field theory—an all-embracing paradigm meant to unify the varied laws of physics.Not long after he began his career at Princeton, Einstein expressed an appreciation for American \"meritocracy\" and the opportunities people had for free thought, a stark contrast to his own experiences coming of age. In 1935, Einstein was granted permanent residency in his adopted country and became an American citizen a few years later. During WWII, he worked on Navy-based weapons systems and made big monetary donations to the military by auctioning off manuscripts worth millions.Einstein and the Atomic BombIn 1939, Einstein and fellow physicist Leo Szilard wrote to President Franklin D. Roosevelt to alert him of the possibility of a Nazi bomb and to galvanize the United States to create its own nuclear weapons. The U.S. would eventually initiate the Manhattan Project, though Einstein would not take direct part in its implementation due to his pacifist and socialist affiliations. Einstein was also the recipient of much scrutiny and major distrust from FBI director J. Edgar Hoover.After learning of the 1945 bombing of Hiroshima, Japan, Einstein became a major player in efforts to curtail usage of the a-bomb. The following year he and Szilard founded the Emergency Committee of Atomic Scientists, and in 1947, via an essay for The Atlantic Monthly, Einstein espoused working with the United Nations to maintain nuclear weapons as a deterrent to conflict.Member of the NAACPIn the late 1940s, Einstein became a member of the National Association for the Advancement of Colored People (NAACP), seeing the parallels between the treatment of Jews in Germany and African Americans in the United States. He corresponded with scholar/activist W.E.B. Du Bois as well as performing artist Paul Robeson and campaigned for civil rights, calling racism a \"disease\" in a 1946 Lincoln University speech.Time Travel and Quantum TheoryAfter World War II, Einstein continued to work on his unified field theory and key aspects of the theory of general relativity, such as wormholes, the possibility of time travel, the existence of black holes and the creation of the universe. However, he became increasingly isolated from the rest of the physics community, whose eyes were set on quantum theory. In the last decade of his life, Einstein, who had always seen himself as a loner, withdrew even further from any sort of spotlight, preferring to stay close to Princeton and immerse himself in processing ideas with colleagues.LegacySince Einstein’s death, a veritable mountain of books have been written on the iconic thinker's life, including Einstein: His Life and Universe by Walter Isaacson and Einstein: A Biography by Jürgen Neffe, both from 2007. Einstein's own words are presented in the collection The World As I See It.\n"
     ]
    }
   ],
   "source": [
    "document2 = document2.replace('\\n','')\n",
    "document1 = document1.replace('\\n','')\n",
    "\n",
    "document1 = document1.replace(\"\\'s\",\"'s\")\n",
    "document2 = document2.replace(\"\\'s\",\"'s\")\n",
    "print(document1)\n",
    "print(document2)"
   ]
  },
  {
   "cell_type": "markdown",
   "metadata": {},
   "source": [
    "### Tf-idf and entities"
   ]
  },
  {
   "cell_type": "markdown",
   "metadata": {},
   "source": [
    "Tf-idf, es una librería que nos permite a partir de la creacción de un diccionario obtener el peso de cada palabra dentro del texto mediante unas reglas establecidas. Nos interesa aquellas palabras que tengan mayor peso pues serán las más importantes del texto."
   ]
  },
  {
   "cell_type": "code",
   "execution_count": 7,
   "metadata": {},
   "outputs": [
    {
     "name": "stderr",
     "output_type": "stream",
     "text": [
      "C:\\Users\\lidia\\Anaconda3\\lib\\site-packages\\gensim\\utils.py:1197: UserWarning: detected Windows; aliasing chunkize to chunkize_serial\n",
      "  warnings.warn(\"detected Windows; aliasing chunkize to chunkize_serial\")\n"
     ]
    }
   ],
   "source": [
    "my_documents = [document1,document2]\n",
    "\n",
    "# packages\n",
    "from nltk.stem import WordNetLemmatizer\n",
    "from gensim.corpora.dictionary import Dictionary\n",
    "from nltk.corpus import stopwords\n",
    "import re\n",
    "from nltk.tokenize import regexp_tokenize\n",
    "\n",
    "# lower words\n",
    "doc_lower = []\n",
    "for doc in my_documents:\n",
    "    document = doc.lower()\n",
    "    doc_lower.append(document)\n",
    "\n",
    "# tokenizamos el documento y eliminamos aquellas palabras denominadas 'stopwords' (signos de puntuación, palabras muy comunes, etc...)\n",
    "tokenized_words = []\n",
    "\n",
    "for i in doc_lower:\n",
    "    x = regexp_tokenize(i,r'(\\d+|\\w+)')\n",
    "    tokenized_words.append(x)\n",
    "\n",
    "filtered_words = []\n",
    "list1 = []\n",
    "list2 = []\n",
    "for i in range(len(tokenized_words)):\n",
    "    for word in tokenized_words[i]:\n",
    "        if word not in stopwords.words('english'):\n",
    "            if i == 0:\n",
    "                list1.append(word)\n",
    "            else:\n",
    "                list2.append(word)\n",
    "\n",
    "filtered_words.append(list1)\n",
    "filtered_words.append(list2)\n",
    "\n",
    "\n",
    "# dictionary creation\n",
    "dictionary = Dictionary(filtered_words)\n",
    "dictionary.token2id\n",
    "\n",
    "\n",
    "# corpus\n",
    "corpus = []\n",
    "\n",
    "for i in filtered_words:\n",
    "    x = dictionary.doc2bow(i)\n",
    "    corpus.append(x)"
   ]
  },
  {
   "cell_type": "code",
   "execution_count": 8,
   "metadata": {},
   "outputs": [
    {
     "name": "stdout",
     "output_type": "stream",
     "text": [
      "mechanics 0.2777777777777778\n",
      "problems 0.2222222222222222\n",
      "professor 0.2222222222222222\n",
      "1920 0.16666666666666666\n",
      "america 0.16666666666666666\n",
      "berlin 0.16666666666666666\n",
      "important 0.16666666666666666\n",
      "movement 0.16666666666666666\n",
      "statistical 0.16666666666666666\n",
      "1914 0.1111111111111111\n",
      "1916 0.1111111111111111\n",
      "1950 0.1111111111111111\n",
      "appointed 0.1111111111111111\n",
      "contributed 0.1111111111111111\n",
      "gained 0.1111111111111111\n",
      "interpretation 0.1111111111111111\n",
      "leading 0.1111111111111111\n",
      "medal 0.1111111111111111\n",
      "moved 0.1111111111111111\n",
      "philosophy 0.1111111111111111\n"
     ]
    }
   ],
   "source": [
    "# PALABRAS CON MÁS PESO DEL DOCUMENTO 1\n",
    "from gensim.models.tfidfmodel import TfidfModel\n",
    "# creation of tfidf model\n",
    "tfidf = TfidfModel(corpus)\n",
    "\n",
    "\n",
    "relevant_words_document1 = []\n",
    "weights_words_document1 = []\n",
    "# document 1\n",
    "doc = corpus[0]\n",
    "\n",
    "# weights\n",
    "tfidf_weights = tfidf[doc]\n",
    "# order\n",
    "sorted_tfidf_weights = sorted(tfidf_weights, key=lambda w: w[1], reverse=True)\n",
    "# best words \n",
    "for term_id, weight in sorted_tfidf_weights[:20]:\n",
    "    print(dictionary.get(term_id), weight)\n",
    "    relevant_words_document1.append(dictionary.get(term_id))\n",
    "    weights_words_document1.append(weight)"
   ]
  },
  {
   "cell_type": "code",
   "execution_count": 9,
   "metadata": {},
   "outputs": [
    {
     "name": "stdout",
     "output_type": "stream",
     "text": [
      "would 0.23199266800191015\n",
      "brain 0.15466177866794012\n",
      "e 0.15466177866794012\n",
      "considered 0.12888481555661677\n",
      "one 0.12888481555661677\n",
      "physicist 0.12888481555661677\n",
      "scientists 0.12888481555661677\n",
      "thus 0.12888481555661677\n",
      "universe 0.12888481555661677\n",
      "bomb 0.1031078524452934\n",
      "couple 0.1031078524452934\n",
      "due 0.1031078524452934\n",
      "energy 0.1031078524452934\n",
      "ideas 0.1031078524452934\n",
      "mc2 0.1031078524452934\n",
      "nobel 0.1031078524452934\n",
      "prize 0.1031078524452934\n",
      "speech 0.1031078524452934\n",
      "study 0.1031078524452934\n",
      "u 0.1031078524452934\n"
     ]
    }
   ],
   "source": [
    "# document 2\n",
    "doc = corpus[1]\n",
    "\n",
    "relevant_words_document2 = []\n",
    "weights_words_document2 = []\n",
    "# weights\n",
    "tfidf_weights = tfidf[doc]\n",
    "# order\n",
    "sorted_tfidf_weights = sorted(tfidf_weights, key=lambda w: w[1], reverse=True)\n",
    "# best words \n",
    "for term_id, weight in sorted_tfidf_weights[:20]:\n",
    "    print(dictionary.get(term_id), weight)\n",
    "    relevant_words_document2.append(dictionary.get(term_id))\n",
    "    weights_words_document2.append(weight)"
   ]
  },
  {
   "cell_type": "markdown",
   "metadata": {},
   "source": [
    "A parte del uso de esta librería para saber las palabras con más peso del documento, he decidido añadir un plus y es saber cuales son las entidades de más peso (año, nombres propios, lugares, etc...) de cada documento utilizando la librería spacy:"
   ]
  },
  {
   "cell_type": "code",
   "execution_count": 10,
   "metadata": {},
   "outputs": [
    {
     "name": "stdout",
     "output_type": "stream",
     "text": [
      "MOST RELEVANT ENTITIES IN DOCUMENT 1\n",
      "einstein 0.5241424183609592\n",
      "1905 0.20965696734438366\n",
      "1914 0.20965696734438366\n",
      "1916 0.20965696734438366\n",
      "1920 0.20965696734438366\n",
      "====================================\n",
      "MOST RELEVANT ENTITIES IN DOCUMENT 2\n",
      "einstein 0.5241424183609592\n",
      "1905 0.20965696734438366\n",
      "1914 0.20965696734438366\n",
      "1916 0.20965696734438366\n",
      "1920 0.20965696734438366\n"
     ]
    }
   ],
   "source": [
    "# importancia de las entidades\n",
    "import spacy\n",
    "nlp = spacy.load('en')\n",
    "\n",
    "# document 1\n",
    "doc = nlp(document1)\n",
    "entities_1 = []\n",
    "for ent in doc.ents:\n",
    "    entities_1.append(ent.text.lower())\n",
    "\n",
    "# document 2\n",
    "doc = nlp(document1)\n",
    "entities_2 = []\n",
    "for ent in doc.ents:\n",
    "    entities_2.append(ent.text.lower())\n",
    "\n",
    "entities = [entities_1,entities_2]\n",
    "\n",
    "\n",
    "# dictionary creation\n",
    "dictionary = Dictionary(entities)\n",
    "dictionary.token2id\n",
    "\n",
    "\n",
    "# corpus\n",
    "corpus = []\n",
    "\n",
    "for i in entities:\n",
    "    x = dictionary.doc2bow(i)\n",
    "    corpus.append(x)\n",
    "\n",
    "\n",
    "# DOCUMENT 1\n",
    "doc = corpus[0]\n",
    "\n",
    "relevant_entities_document1 = []\n",
    "weights_entities_document1=[]\n",
    "# weights\n",
    "tfidf_weights = tfidf[doc]\n",
    "# order\n",
    "sorted_tfidf_weights = sorted(tfidf_weights, key=lambda w: w[1], reverse=True)\n",
    "# best entities\n",
    "print('MOST RELEVANT ENTITIES IN DOCUMENT 1')\n",
    "for term_id, weight in sorted_tfidf_weights[:5]:\n",
    "    print(dictionary.get(term_id), weight)\n",
    "    relevant_entities_document1.append(dictionary.get(term_id))\n",
    "    weights_entities_document1.append(weight)\n",
    "\n",
    "\n",
    "print('====================================')\n",
    "\n",
    "\n",
    "doc = corpus[1]\n",
    "\n",
    "relevant_entities_document2 = []\n",
    "weights_entities_document2 = []\n",
    "# weights\n",
    "tfidf_weights = tfidf[doc]\n",
    "# order\n",
    "sorted_tfidf_weights = sorted(tfidf_weights, key=lambda w: w[1], reverse=True)\n",
    "# best entities\n",
    "print('MOST RELEVANT ENTITIES IN DOCUMENT 2')\n",
    "for term_id, weight in sorted_tfidf_weights[:5]:\n",
    "    print(dictionary.get(term_id), weight)\n",
    "    relevant_entities_document2.append(dictionary.get(term_id))\n",
    "    weights_entities_document2.append(weight)"
   ]
  },
  {
   "cell_type": "markdown",
   "metadata": {},
   "source": [
    "Una vez tengamos ya cuáles son las palabras con más peso y el peso de las entidades más relevantes, introduzco las palabras en una lista y su respectivo peso en otra lista en el mismo orden, puesto que luego es necesario para hacer el scoring-sentences:"
   ]
  },
  {
   "cell_type": "code",
   "execution_count": 13,
   "metadata": {},
   "outputs": [
    {
     "name": "stdout",
     "output_type": "stream",
     "text": [
      "KEY WORDS FOR CHOOSING SENTENCES DOC 1\n",
      "['mechanics', 'problems', 'professor', '1920', 'america', 'berlin', 'important', 'movement', 'statistical', '1914', '1916', '1950', 'appointed', 'contributed', 'gained', 'interpretation', 'leading', 'medal', 'moved', 'philosophy', 'einstein', '1905', '1914', '1916', '1920']\n",
      "[0.2777777777777778, 0.2222222222222222, 0.2222222222222222, 0.16666666666666666, 0.16666666666666666, 0.16666666666666666, 0.16666666666666666, 0.16666666666666666, 0.16666666666666666, 0.1111111111111111, 0.1111111111111111, 0.1111111111111111, 0.1111111111111111, 0.1111111111111111, 0.1111111111111111, 0.1111111111111111, 0.1111111111111111, 0.1111111111111111, 0.1111111111111111, 0.1111111111111111, 0.5241424183609592, 0.20965696734438366, 0.20965696734438366, 0.20965696734438366, 0.20965696734438366]\n",
      "KEY WORDS FOR CHOOSING SENTENCES DOC 2\n",
      "['would', 'brain', 'e', 'considered', 'one', 'physicist', 'scientists', 'thus', 'universe', 'bomb', 'couple', 'due', 'energy', 'ideas', 'mc2', 'nobel', 'prize', 'speech', 'study', 'u', 'einstein', '1905', '1914', '1916', '1920']\n",
      "[0.23199266800191015, 0.15466177866794012, 0.15466177866794012, 0.12888481555661677, 0.12888481555661677, 0.12888481555661677, 0.12888481555661677, 0.12888481555661677, 0.12888481555661677, 0.1031078524452934, 0.1031078524452934, 0.1031078524452934, 0.1031078524452934, 0.1031078524452934, 0.1031078524452934, 0.1031078524452934, 0.1031078524452934, 0.1031078524452934, 0.1031078524452934, 0.1031078524452934, 0.5241424183609592, 0.20965696734438366, 0.20965696734438366, 0.20965696734438366, 0.20965696734438366]\n"
     ]
    }
   ],
   "source": [
    "# document 1 \n",
    "key_words_document1 = []\n",
    "for i in relevant_words_document1:\n",
    "    key_words_document1.append(i)\n",
    "\n",
    "for j in relevant_entities_document1:\n",
    "    key_words_document1.append(j)\n",
    "    \n",
    "weights_document1 = []\n",
    "for i in weights_words_document1:\n",
    "    weights_document1.append(i)\n",
    "    \n",
    "for j in weights_entities_document1:\n",
    "    weights_document1.append(j)\n",
    "# document 2\n",
    "key_words_document2 = []\n",
    "for i in relevant_words_document2:\n",
    "    key_words_document2.append(i)\n",
    "\n",
    "for j in relevant_entities_document2:\n",
    "    key_words_document2.append(j)\n",
    "    \n",
    "weights_document2 = []\n",
    "for i in weights_words_document2:\n",
    "    weights_document2.append(i)\n",
    "    \n",
    "for j in weights_entities_document2:\n",
    "    weights_document2.append(j)\n",
    "    \n",
    "print('KEY WORDS FOR CHOOSING SENTENCES DOC 1')\n",
    "print(key_words_document1)\n",
    "print(weights_document1)\n",
    "\n",
    "\n",
    "print('KEY WORDS FOR CHOOSING SENTENCES DOC 2')\n",
    "print(key_words_document2)\n",
    "print(weights_document2)\n"
   ]
  },
  {
   "cell_type": "markdown",
   "metadata": {},
   "source": [
    "### Pronoun transformation"
   ]
  },
  {
   "cell_type": "markdown",
   "metadata": {},
   "source": [
    "Antes de comenzar a seleccionas las frases más relevantes del documento, hay un matiz que no debemos pasar por alto y es que una de las entidades con más peso es 'einstein' y en la mayoría de frases para referirse a él utiliza 'he', por lo tanto, para la selccion debemos hacer un 'pronoun transformation' que consistirá que donde pone 'he' lo sustituiremos por 'einstein'."
   ]
  },
  {
   "cell_type": "code",
   "execution_count": 16,
   "metadata": {},
   "outputs": [],
   "source": [
    "from nltk.tokenize import sent_tokenize\n",
    "\n",
    "# tokenize sentences document 1\n",
    "sentences_document1 = sent_tokenize(document1)\n",
    "\n",
    "\n",
    "# tokenize sentences document 2\n",
    "sentences_document2 = sent_tokenize(document2)"
   ]
  },
  {
   "cell_type": "code",
   "execution_count": 19,
   "metadata": {},
   "outputs": [],
   "source": [
    "sentences_document1_new = []\n",
    "for sentence in sentences_document1:\n",
    "    sentence = sentence.lower()\n",
    "    if \"he\" in sentence:\n",
    "        sentence = re.sub(r'\\bhe\\b','einstein',sentence)\n",
    "    sentences_document1_new.append(sentence)\n",
    "    \n",
    "sentences_document2_new =[]\n",
    "for sentence in sentences_document2:\n",
    "    sentence = sentence.lower()\n",
    "    if \"he\" in sentence:\n",
    "        sentence = re.sub(r'\\bhe\\b','einstein',sentence)\n",
    "    sentences_document2_new.append(sentence)\n"
   ]
  },
  {
   "cell_type": "markdown",
   "metadata": {},
   "source": [
    "### Our algorithm to choose sentences"
   ]
  },
  {
   "cell_type": "markdown",
   "metadata": {},
   "source": [
    "Para elegir las frases más relevantes, hemos utilizado el mismo método que en el artículo 'http://www.doiserbia.nb.rs/img/doi/1820-0214/2015/1820-02141500060N.pdf'. \n",
    "\n",
    "En resumen, lo que haremos será hacer un score para cada frase basado en tres:\n",
    "    - El primer score se basará en el score de las palabras que hemos seleccionado con sus respectivos pesos.\n",
    "    - El segundo se basará en la longitud de la frase con respecto a la media de la longitud total de las frases\n",
    "    - Y el último se considera que la primera y la última frase del documento siempre son más relevantes que el resto.\n",
    "    \n",
    "Se suman los scores y aquellas frases que tengan más score* son las seleccionadas como frases más importantes.\n",
    "\n",
    "* He considerado que se seleccionan aquellas frases que tengan un score superior a la media de los scores."
   ]
  },
  {
   "cell_type": "code",
   "execution_count": 20,
   "metadata": {},
   "outputs": [
    {
     "name": "stdout",
     "output_type": "stream",
     "text": [
      "DOCUMENT 1\n",
      "========================\n",
      "WORD SCORE SENTENCES\n",
      "[0.5241424183609592, 0.6352535294720703, 0.6352535294720703, 0.6352535294720703, 0.7337993857053429, 0.6352535294720703, 0.7463646405831814, 1.2463646405831814, 1.3019201961387368, 0.5241424183609592, 0.801920196138737, 0.7463646405831814, 0.5241424183609592, 0.5241424183609592, 0.801920196138737, 1.3574757516942926, 0.5241424183609592, 1.0241424183609593, 1.3019201961387368, 1.1352535294720703, 1.079697973916515, 0.5241424183609592, 1.7337993857053429, 0, 0.3888888888888889, 0.801920196138737, 1.1352535294720703, 0.7463646405831814, 0.6908090850276258, 0.5241424183609592, 0.5241424183609592]\n",
      "========================\n",
      "SENTENCE LENGHT SCORE\n",
      "average =  24.903225806451612\n",
      "[0.47797927461139894, 0.2370466321243523, 0.4054404145077721, 0.36528497409326427, 0.7189119170984456, 0.12435233160621766, 0.12435233160621766, 0.2370466321243523, 0.4455958549222798, 0.3976683937823834, 0.6463730569948187, 0.2370466321243523, 0.15673575129533676, 0.5181347150259067, 0.4857512953367876, 0.16450777202072542, 0.03626943005181344, 0.5259067357512954, 0.31735751295336784, 0.2849740932642488, 0.2849740932642488, 0.044041450777202104, 0.6865284974093265, 0.63860103626943, 0.35751295336787564, 0.31735751295336784, 0.12435233160621766, 0.24481865284974097, 0.11658031088082899, 0.4054404145077721, 0.5984455958549223]\n",
      "============================\n",
      "SENTENCE POSITION SCORE\n",
      "[0.8, 0, 0, 0, 0, 0, 0, 0, 0, 0, 0, 0, 0, 0, 0, 0, 0, 0, 0, 0, 0, 0, 0, 0, 0, 0, 0, 0, 0, 0, 0.2]\n",
      "===========================\n",
      "TOTAL SCORE\n",
      "[1.8021216929723582, 0.8723001615964225, 1.0406939439798424, 1.0005385035653345, 1.4527113028037886, 0.7596058610782879, 0.870716972189399, 1.4834112727075337, 1.7475160510610166, 0.9218108121433426, 1.4482932531335557, 0.9834112727075337, 0.680878169656296, 1.042277133386866, 1.2876714914755247, 1.521983523715018, 0.5604118484127727, 1.5500491541122547, 1.6192777090921047, 1.420227622736319, 1.3646720671807637, 0.5681838691381613, 2.4203278831146693, 0.63860103626943, 0.7464018422567645, 1.1192777090921049, 1.2596058610782879, 0.9911832934329223, 0.8073893959084548, 0.9295828328687312, 1.3225880142158815]\n",
      "==========================\n",
      "SENTENCES SELECTED\n",
      "score_average = 1.1688297276477984\n",
      "we selected 14 sentences\n",
      "['Albert Einstein was born at Ulm, in Württemberg, Germany, on March 14, 1879.', \"In 1905 he obtained his doctor's degree.\", 'In 1914 he was appointed Director of the Kaiser Wilhelm Physical Institute and Professor in the University of Berlin.', 'He became a German citizen in 1914 and remained in Berlin until 1933 when he renounced his citizenship for political reasons and emigrated to America to take the position of Professor of Theoretical Physics at Princeton*.', 'After World War II, Einstein was a leading figure in the World Government Movement, he was offered the Presidency of the State of Israel, which he declined, and he collaborated with Dr. Chaim Weizmann in establishing the Hebrew University of Jerusalem.', 'At the start of his scientific work, Einstein realized the inadequacies of Newtonian mechanics and his special theory of relativity stemmed from an attempt to reconcile the laws of mechanics with the laws of the electromagnetic field.', 'He dealt with classical problems of statistical mechanics and problems in which they were merged with quantum theory: this led to an explanation of the Brownian movement of molecules.', 'In his early days in Berlin, Einstein postulated that the correct interpretation of the special theory of relativity must also furnish a theory of gravitation and in 1916 he published his paper on the general theory of relativity.', 'During this time he also contributed to the problems of the theory of radiation and statistical mechanics.', 'In the 1920s, Einstein embarked on the construction of unified field theories, although he continued to work on the probabilistic interpretation of quantum theory, and he persevered with this work in America.', 'He contributed to statistical mechanics by his development of the quantum theory of a monatomic gas and he has also accomplished valuable work in connection with atomic transition probabilities and relativistic cosmology.', \"Einstein's researches are, of course, well chronicled and his more important works include Special Theory of Relativity (1905), Relativity (English translations, 1920 and 1950), General Theory of Relativity (1916), Investigations on Theory of Brownian Movement (1926), and The Evolution of Physics (1938).\", \"During the 1920's he lectured in Europe, America and the Far East, and he was awarded Fellowships or Memberships of all the leading scientific academies throughout the world.\", 'He died on April 18, 1955 at Princeton, New Jersey.']\n"
     ]
    }
   ],
   "source": [
    "# (1) word-score (just for relevant words) --> TF-IDF (we added entities as well)\n",
    "\n",
    "# (2) Sentence Lenght Score\n",
    "     # L(Si,di) = abs[ (number of words of the sentences) - (average of lenght of the sentences)] / (average of length of the sentences)\n",
    "# (3) Sentence position\n",
    "     # 0.8 if it is the first phrase\n",
    "     # 0.2 if it is the last phrase\n",
    "     # 0 in other case\n",
    "\n",
    "# document 1\n",
    "score_sentences_total_document1 = []\n",
    "score_word_sentences_document1 = []\n",
    "\n",
    "print('DOCUMENT 1')\n",
    "print('========================')\n",
    "print('WORD SCORE SENTENCES')\n",
    "\n",
    "for i in sentences_document1_new:\n",
    "    score = 0\n",
    "    for j in key_words_document1:\n",
    "        if j in i:\n",
    "            pos = key_words_document1.index(j)\n",
    "            score = score + weights_document1[pos]\n",
    "        else:\n",
    "            score = score\n",
    "    score_word_sentences_document1.append(score)\n",
    "print(score_word_sentences_document1)\n",
    "print('========================')\n",
    "print('SENTENCE LENGHT SCORE')\n",
    "lenght_sentences = 0\n",
    "for i in sentences_document1_new:\n",
    "    lenght = len(i.split())\n",
    "    lenght_sentences = lenght_sentences + lenght\n",
    "\n",
    "average = float(lenght_sentences)/float(len(sentences_document1_new))\n",
    "print('average = ',average)\n",
    "\n",
    "score_len_sentences_document1 = []\n",
    "for i in sentences_document1_new:\n",
    "    score = abs(len(i.split()) - average)/ average\n",
    "    score_len_sentences_document1.append(score)\n",
    "print(score_len_sentences_document1)\n",
    "\n",
    "print('============================')\n",
    "print('SENTENCE POSITION SCORE')\n",
    "score_sentence_position = []\n",
    "for i in sentences_document1_new:\n",
    "    score = 0\n",
    "    if sentences_document1_new.index(i) == 0:\n",
    "        score = score + 0.8\n",
    "    elif sentences_document1_new.index(i) == (len(sentences_document1_new)-1):\n",
    "        score = score + 0.2\n",
    "    else:\n",
    "        score = 0\n",
    "    score_sentence_position.append(score)\n",
    "print(score_sentence_position)\n",
    "    \n",
    "print('===========================')\n",
    "print('TOTAL SCORE')\n",
    "for i in range(len(score_len_sentences_document1)):\n",
    "    score_total = score_word_sentences_document1[i] + score_sentence_position[i] + score_len_sentences_document1[i]\n",
    "    score_sentences_total_document1.append(score_total)\n",
    "\n",
    "print(score_sentences_total_document1)\n",
    "    \n",
    "    \n",
    "print('==========================')\n",
    "print('SENTENCES SELECTED')\n",
    "# we are going to choose the sentences which they are above average of score\n",
    "score_average = float(sum(score_sentences_total_document1)/len(score_sentences_total_document1))\n",
    "print('score_average =', score_average)\n",
    "\n",
    "sentences_selected = []\n",
    "for i in score_sentences_total_document1:\n",
    "    if i>score_average:\n",
    "        pos = score_sentences_total_document1.index(i)\n",
    "        sentence = sentences_document1[pos]\n",
    "        sentences_selected.append(sentence)\n",
    "print('we selected', len(sentences_selected),'sentences')\n",
    "print(sentences_selected)\n"
   ]
  },
  {
   "cell_type": "code",
   "execution_count": 22,
   "metadata": {},
   "outputs": [
    {
     "name": "stdout",
     "output_type": "stream",
     "text": [
      "DOCUMENT 2\n",
      "========================\n",
      "WORD SCORE SENTENCES\n",
      "[0.8076890125855161, 1.168566496144043, 0.6788041970288994, 0.8076890125855161, 0.8850199019194862, 0.7819120494741927, 0.25776963111323353, 0.7819120494741927, 1.0396816805874263, 1.1170125699213962, 0.888461164373283, 0.6788041970288994, 0.9107968650308095, 0.7819120494741927, 0.9107968650308095, 1.197784721709163, 0.36087748355852695, 0.9107968650308095, 0.7819120494741927, 0.7819120494741927, 0.25776963111323353, 0.8076890125855161, 0.6788041970288994, 0.7819120494741927, 0.8850199019194862, 1.013904717476103, 0.8850199019194862, 0.36087748355852695, 0.25776963111323353, 0.36087748355852695, 0.6186471146717605, 0.9881277543647795, 0.7819120494741927, 0.8850199019194862, 1.013904717476103, 0.6788041970288994, 0.7819120494741927, 0.6788041970288994, 0.7819120494741927, 0.8850199019194862, 0.7819120494741927, 0.6788041970288994, 0.15466177866794012, 0.28354659422455686, 0.15466177866794012, 1.0396816805874263, 1.4005591641459532, 0.9365738281421329, 1.168566496144043, 0.6788041970288994, 0.7819120494741927, 0.7819120494741927, 1.245897385478013, 0.7819120494741927, 0.7819120494741927, 0.7819120494741927, 1.1427895330327198, 0.7819120494741927, 0.25776963111323353, 0.7819120494741927, 0.7819120494741927, 0.8850199019194862, 0.9107968650308095, 0.7819120494741927, 0.7819120494741927, 0.8850199019194862, 0.7819120494741927, 1.245897385478013, 1.1204538323751931, 0.25776963111323353, 0.9881277543647795, 1.2201204223666897, 0.9881277543647795, 0.9107968650308095, 0.5155392622264671, 0.8850199019194862, 0.15466177866794012, 0.9107968650308095, 0.7819120494741927, 0.38665444666985027, 0.6788041970288994, 1.013904717476103, 0.7819120494741927, 0.7819120494741927, 0.9107968650308095, 1.013904717476103, 1.1170125699213962, 0.7819120494741927, 0.8850199019194862, 0.9107968650308095, 0.7819120494741927, 0.6788041970288994, 0.36087748355852695, 0.9107968650308095, 0.7819120494741927, 1.013904717476103, 0.9107968650308095, 0.6788041970288994]\n",
      "========================\n",
      "SENTENCE LENGHT SCORE\n",
      "average =  67.03225806451613\n",
      "[0.8060635226179018, 0.8060635226179018, 0.9403272377285852, 0.641963426371511, 0.7613089509143407, 0.7762271414821944, 0.8060635226179018, 0.8508180943214629, 0.746390760346487, 0.43310875842155916, 0.5673724735322425, 0.8508180943214629, 0.8508180943214629, 0.37343599615014433, 0.5375360923965351, 0.492781520692974, 0.6717998075072185, 0.40327237728585175, 0.8508180943214629, 0.5972088546679499, 0.8508180943214629, 0.8508180943214629, 0.8060635226179018, 0.8209817131857555, 0.7016361886429259, 0.6568816169393648, 0.8358999037536092, 0.6568816169393648, 0.8806544754571703, 0.8358999037536092, 0.6270452358036573, 0.641963426371511, 0.7165543792107796, 0.8358999037536092, 0.7314725697786333, 0.8955726660250241, 0.8209817131857555, 0.9254090471607315, 0.6568816169393648, 0.7165543792107796, 0.6270452358036573, 0.8209817131857555, 0.8955726660250241, 0.8508180943214629, 0.9254090471607315, 0.5822906641000962, 0.6270452358036573, 0.5972088546679499, 0.4778633301251203, 0.7314725697786333, 0.7911453320500481, 0.8060635226179018, 0.5673724735322425, 0.8358999037536092, 0.6121270452358036, 0.7016361886429259, 0.6270452358036573, 0.7016361886429259, 0.7314725697786333, 0.6270452358036573, 0.6121270452358036, 0.5822906641000962, 0.6568816169393648, 0.7911453320500481, 0.7314725697786333, 0.5972088546679499, 0.7016361886429259, 0.43310875842155916, 0.5524542829643888, 0.8806544754571703, 0.6270452358036573, 0.5673724735322425, 0.5972088546679499, 0.32868142444658327, 0.6121270452358036, 0.6867179980750722, 0.6717998075072185, 0.8358999037536092, 0.7165543792107796, 0.6270452358036573, 0.8508180943214629, 0.5673724735322425, 0.492781520692974, 0.7016361886429259, 0.6717998075072185, 0.38835418671799804, 0.6270452358036573, 0.746390760346487, 0.6717998075072185, 0.41819056785370545, 0.40327237728585175, 0.9254090471607315, 0.641963426371511, 0.31376323387872956, 0.7165543792107796, 0.43310875842155916, 0.46294513955726657, 0.7911453320500481]\n",
      "============================\n",
      "SENTENCE POSITION SCORE\n",
      "[0.8, 0, 0, 0, 0, 0, 0, 0, 0, 0, 0, 0, 0, 0, 0, 0, 0, 0, 0, 0, 0, 0, 0, 0, 0, 0, 0, 0, 0, 0, 0, 0, 0, 0, 0, 0, 0, 0, 0, 0, 0, 0, 0, 0, 0, 0, 0, 0, 0, 0, 0, 0, 0, 0, 0, 0, 0, 0, 0, 0, 0, 0, 0, 0, 0, 0, 0, 0, 0, 0, 0, 0, 0, 0, 0, 0, 0, 0, 0, 0, 0, 0, 0, 0, 0, 0, 0, 0, 0, 0, 0, 0, 0, 0, 0, 0, 0, 0.2]\n",
      "===========================\n",
      "TOTAL SCORE\n",
      "[2.413752535203418, 1.9746300187619448, 1.6191314347574846, 1.4496524389570271, 1.646328852833827, 1.558139190956387, 1.0638331537311354, 1.6327301437956556, 1.7860724409339133, 1.5501213283429554, 1.4558336379055254, 1.5296222913503623, 1.7616149593522725, 1.155348045624337, 1.4483329574273447, 1.690566242402137, 1.0326772910657454, 1.3140692423166613, 1.6327301437956556, 1.3791209041421426, 1.1085877254346965, 1.658507106906979, 1.4848677196468012, 1.6028937626599482, 1.586656090562412, 1.6707863344154676, 1.7209198056730954, 1.0177591004978916, 1.138424106570404, 1.1967773873121361, 1.2456923504754178, 1.6300911807362906, 1.4984664286849723, 1.7209198056730954, 1.7453772872547362, 1.5743768630539234, 1.6028937626599482, 1.6042132441896308, 1.4387936664135574, 1.6015742811302658, 1.40895728527785, 1.499785910214655, 1.0502344446929641, 1.13436468854602, 1.0800708258286715, 1.6219723446875225, 2.0276043999496105, 1.5337826828100827, 1.6464298262691632, 1.4102767668075327, 1.5730573815242408, 1.5879755720920945, 1.8132698590102556, 1.617811953227802, 1.3940390947099963, 1.4835482381171186, 1.7698347688363771, 1.4835482381171186, 0.9892422008918669, 1.40895728527785, 1.3940390947099963, 1.4673105660195824, 1.5676784819701743, 1.5730573815242408, 1.513384619252826, 1.4822287565874361, 1.4835482381171186, 1.6790061438995723, 1.672908115339582, 1.138424106570404, 1.6151729901684369, 1.7874928958989322, 1.5853366090327294, 1.2394782894773928, 1.1276663074622708, 1.5717378999945584, 0.8264615861751585, 1.7466967687844188, 1.4984664286849723, 1.0136996824735076, 1.5296222913503623, 1.5812771910083454, 1.2746935701671667, 1.4835482381171186, 1.582596672538028, 1.402258904194101, 1.7440578057250535, 1.5283028098206797, 1.5568197094267047, 1.328987432884515, 1.1851844267600444, 1.6042132441896308, 1.002840909930038, 1.224560098909539, 1.4984664286849723, 1.447013475897662, 1.3737420045880762, 1.6699495290789474]\n",
      "==========================\n",
      "SENTENCES SELECTED\n",
      "score_average = 1.4844854973052102\n",
      "we selected 56 sentences\n",
      "['Albert Einstein was a German-born physicist who developed the general theory of relativity.', 'He is considered one of the most influential physicists of the 20th century.', 'Who Was Albert Einstein?', 'In 1921, he won the Nobel Prize for physics for his explanation of the photoelectric effect.', 'In the following decade, he immigrated to the U.S. after being targeted by the Nazis.', 'In his later years, Einstein focused on unified field theory.', 'With his passion for inquiry, Einstein is generally considered the most influential physicist of the 20th century.', 'Albert Einstein’s Inventions and Discoveries\\nAs a physicist, Einstein had many discoveries, but he is perhaps best known for his theory of relativity and the equation E=MC2, which foreshadowed the development of atomic power and the atomic bomb.', 'By November 1915, Einstein completed the general theory of relativity.', 'Einstein considered this theory the culmination of his life research.', 'Einstein’s E=MC2\\nEinstein’s 1905 paper on the matter/energy relationship proposed the equation E=MC2: energy of a body (E) is equal to the mass (M) of that body times the speed of light squared (C2).', 'In his later years, Einstein focused on unified field theory.', 'Einstein had one sister, Maja, born two years after him.', 'Einstein’s Wives and Children\\nAlbert Einstein married Milena Maric on Jan. 6, 1903.', 'While attending school in Zurich, Einstein met Maric, a Serbian physics student.', 'Einstein continued to grow closer to Maric, but his parents were strongly against the relationship due to her ethnic background.', 'Nonetheless, Einstein continued to see her, with the two developing a correspondence via letters in which he expressed many of his scientific ideas.', 'Einstein’s father passed away in 1902, and the couple married thereafter.', 'Einstein, as part of a settlement, agreed to give Maric any funds he might receive from possibly winning the Nobel Prize in the future.', 'During his marriage to Maric, Einstein had also begun an affair some time earlier with a cousin, Elsa Löwenthal.', 'Einstein’s father passed away in 1902, and the couple married thereafter.', \"He would continue to see other women throughout his second marriage, which ended with Löwenthal's death in 1936.\", 'When and Where Was Albert Einstein Born?', 'While attending school in Zurich, Einstein met Maric, a Serbian physics student.', 'When Did Albert Einstein Die?', \"The previous day, while working on a speech to honor Israel's seventh anniversary, Einstein suffered an abdominal aortic aneurysm.\", '\"I want to go when I want,\" he stated at the time.', 'Einstein’s Brain\\nDuring Albert Einstein’s autopsy, Thomas Stoltz Harvey removed his brain, reportedly without the permission of his family, for preservation and future study by doctors of neuroscience.', 'However during his life Einstein participated in brain studies, and at least one biography says he hoped researchers would study his brain after he died.', \"Einstein's brain is now located at the Princeton University Medical Center, and his remains were cremated and his ashes scattered in an undisclosed location, following his wishes.\", 'In 1999, Canadian scientists who were studying Einstein’s brain found that his inferior parietal lobe, the area that processes spatial relationships, 3D-visualization and mathematical thought, was 15 percent wider than in people with normal intelligence.', 'Early Life and Education\\nEinstein attended elementary school at the Luitpold Gymnasium in Munich.', \"However, he felt alienated there and struggled with the institution's rigid pedagogical style.\", 'He also had what were considered speech challenges, though he developed a passion for classical music and playing the violin that would stay with him into his later years.', \"Most significantly, Einstein's youth was marked by deep inquisitiveness and inquiry.\", 'Thus, during his teens, Einstein penned what would be seen as his first major paper, \"The Investigation of the State of Aether in Magnetic Fields.\"', 'He was still required to complete his pre-university education first, and thus attended a high school in Aarau, Switzerland helmed by Jost Winteler.', 'Early Life and Education\\nEinstein attended elementary school at the Luitpold Gymnasium in Munich.', 'Einstein later renounced his German citizenship and became a Swiss citizen at the dawn of the new century.', 'While working at the patent office, Einstein had the time to further explore ideas that had taken hold during his studies at Polytechnic and thus cemented his theorems on what would be known as the principle of relativity.', 'In 1905—seen by many as a \"miracle year\" for the theorist—Einstein had four papers published in the Annalen der Physik, one of the best known physics journals of the era.', 'The two others, which outlined E=MC2 and the special theory of relativity, were defining for Einstein’s career and the course of the study of physics.', 'Nobel Prize for Physics\\nIn 1921, Einstein won the Nobel Prize for Physics for his explanation of the photoelectric effect, since his ideas on relativity were still considered questionable.', \"He wasn't actually given the award until the following year due to a bureaucratic ruling, and during his acceptance speech he still opted to speak about relativity.\", 'Becoming a U.S. Citizen\\nIn 1933, Einstein took on a position at the Institute for Advanced Study at Princeton, New Jersey.', 'The party influenced other scientists to label Einstein\\'s work \"Jewish physics.\"', 'During his marriage to Maric, Einstein had also begun an affair some time earlier with a cousin, Elsa Löwenthal.', 'By November 1915, Einstein completed the general theory of relativity.', 'It was at Princeton that Einstein would spend the rest of his life working on a unified field theory—an all-embracing paradigm meant to unify the varied laws of physics.', 'During WWII, he worked on Navy-based weapons systems and made big monetary donations to the military by auctioning off manuscripts worth millions.', 'The U.S. would eventually initiate the Manhattan Project, though Einstein would not take direct part in its implementation due to his pacifist and socialist affiliations.', 'Einstein was also the recipient of much scrutiny and major distrust from FBI director J. Edgar Hoover.', 'After learning of the 1945 bombing of Hiroshima, Japan, Einstein became a major player in efforts to curtail usage of the a-bomb.', 'When Did Albert Einstein Die?', 'During his marriage to Maric, Einstein had also begun an affair some time earlier with a cousin, Elsa Löwenthal.', \"Einstein's own words are presented in the collection The World As I See It.\"]\n"
     ]
    }
   ],
   "source": [
    "# document 1\n",
    "score_sentences_total_document2 = []\n",
    "score_word_sentences_document2 = []\n",
    "\n",
    "print('DOCUMENT 2')\n",
    "print('========================')\n",
    "print('WORD SCORE SENTENCES')\n",
    "\n",
    "for i in sentences_document2_new:\n",
    "    score = 0\n",
    "    for j in key_words_document2:\n",
    "        if j in i:\n",
    "            pos = key_words_document2.index(j)\n",
    "            score = score + weights_document2[pos]\n",
    "        else:\n",
    "            score = score\n",
    "    score_word_sentences_document2.append(score)\n",
    "print(score_word_sentences_document2)\n",
    "print('========================')\n",
    "print('SENTENCE LENGHT SCORE')\n",
    "lenght_sentences = 0\n",
    "for i in sentences_document2_new:\n",
    "    lenght = len(i.split())\n",
    "    lenght_sentences = lenght_sentences + lenght\n",
    "\n",
    "average = float(lenght_sentences)/float(len(sentences_document1_new))\n",
    "print('average = ',average)\n",
    "\n",
    "score_len_sentences_document2 = []\n",
    "for i in sentences_document2_new:\n",
    "    score = abs(len(i.split()) - average)/ average\n",
    "    score_len_sentences_document2.append(score)\n",
    "print(score_len_sentences_document2)\n",
    "\n",
    "print('============================')\n",
    "print('SENTENCE POSITION SCORE')\n",
    "score_sentence_position = []\n",
    "for i in sentences_document2_new:\n",
    "    score = 0\n",
    "    if sentences_document2_new.index(i) == 0:\n",
    "        score = score + 0.8\n",
    "    elif sentences_document2_new.index(i) == (len(sentences_document2_new)-1):\n",
    "        score = score + 0.2\n",
    "    else:\n",
    "        score = 0\n",
    "    score_sentence_position.append(score)\n",
    "print(score_sentence_position)\n",
    "    \n",
    "print('===========================')\n",
    "print('TOTAL SCORE')\n",
    "for i in range(len(score_len_sentences_document2)):\n",
    "    score_total = score_word_sentences_document2[i] + score_sentence_position[i] + score_len_sentences_document2[i]\n",
    "    score_sentences_total_document2.append(score_total)\n",
    "\n",
    "print(score_sentences_total_document2)\n",
    "    \n",
    "    \n",
    "print('==========================')\n",
    "print('SENTENCES SELECTED')\n",
    "# we are going to choose the sentences which they are above average of score\n",
    "score_average = float(sum(score_sentences_total_document2)/len(score_sentences_total_document2))\n",
    "print('score_average =', score_average)\n",
    "\n",
    "sentences_selected = []\n",
    "for i in score_sentences_total_document2:\n",
    "    if i>score_average:\n",
    "        pos = score_sentences_total_document2.index(i)\n",
    "        sentence = sentences_document2[pos]\n",
    "        sentences_selected.append(sentence)\n",
    "print('we selected', len(sentences_selected),'sentences')\n",
    "print(sentences_selected)"
   ]
  },
  {
   "cell_type": "markdown",
   "metadata": {},
   "source": []
  },
  {
   "cell_type": "code",
   "execution_count": null,
   "metadata": {},
   "outputs": [],
   "source": []
  }
 ],
 "metadata": {
  "kernelspec": {
   "display_name": "Python 3",
   "language": "python",
   "name": "python3"
  },
  "language_info": {
   "codemirror_mode": {
    "name": "ipython",
    "version": 3
   },
   "file_extension": ".py",
   "mimetype": "text/x-python",
   "name": "python",
   "nbconvert_exporter": "python",
   "pygments_lexer": "ipython3",
   "version": "3.6.5"
  }
 },
 "nbformat": 4,
 "nbformat_minor": 2
}
